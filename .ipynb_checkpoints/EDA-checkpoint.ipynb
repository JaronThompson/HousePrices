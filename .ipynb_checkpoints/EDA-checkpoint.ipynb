{
 "cells": [
  {
   "cell_type": "markdown",
   "metadata": {},
   "source": [
    "# Explore options for converting categorical variables to continuous variables "
   ]
  },
  {
   "cell_type": "code",
   "execution_count": 1,
   "metadata": {},
   "outputs": [],
   "source": [
    "import numpy as np \n",
    "import matplotlib.pyplot as plt \n",
    "import pandas as pd \n",
    "import os \n",
    "\n",
    "from sklearn.model_selection import KFold\n",
    "from tqdm import tqdm \n",
    "\n",
    "# import preprocessing tools \n",
    "from sklearn.feature_selection import mutual_info_regression as mi\n",
    "from sklearn.preprocessing import OrdinalEncoder, MinMaxScaler\n",
    "from sklearn.metrics import explained_variance_score as R2\n",
    "\n",
    "# import linear models \n",
    "from sklearn.linear_model import Lasso, Ridge"
   ]
  },
  {
   "cell_type": "code",
   "execution_count": 2,
   "metadata": {},
   "outputs": [
    {
     "name": "stdout",
     "output_type": "stream",
     "text": [
      "['sample_submission.csv', 'test.csv', 'data_description.txt', 'house-prices-advanced-regression-techniques.zip', 'train.csv']\n"
     ]
    },
    {
     "data": {
      "text/html": [
       "<div>\n",
       "<style scoped>\n",
       "    .dataframe tbody tr th:only-of-type {\n",
       "        vertical-align: middle;\n",
       "    }\n",
       "\n",
       "    .dataframe tbody tr th {\n",
       "        vertical-align: top;\n",
       "    }\n",
       "\n",
       "    .dataframe thead th {\n",
       "        text-align: right;\n",
       "    }\n",
       "</style>\n",
       "<table border=\"1\" class=\"dataframe\">\n",
       "  <thead>\n",
       "    <tr style=\"text-align: right;\">\n",
       "      <th></th>\n",
       "      <th>Id</th>\n",
       "      <th>MSSubClass</th>\n",
       "      <th>MSZoning</th>\n",
       "      <th>LotArea</th>\n",
       "      <th>Street</th>\n",
       "      <th>LotShape</th>\n",
       "      <th>LandContour</th>\n",
       "      <th>Utilities</th>\n",
       "      <th>LotConfig</th>\n",
       "      <th>LandSlope</th>\n",
       "      <th>...</th>\n",
       "      <th>EnclosedPorch</th>\n",
       "      <th>3SsnPorch</th>\n",
       "      <th>ScreenPorch</th>\n",
       "      <th>PoolArea</th>\n",
       "      <th>MiscVal</th>\n",
       "      <th>MoSold</th>\n",
       "      <th>YrSold</th>\n",
       "      <th>SaleType</th>\n",
       "      <th>SaleCondition</th>\n",
       "      <th>SalePrice</th>\n",
       "    </tr>\n",
       "  </thead>\n",
       "  <tbody>\n",
       "    <tr>\n",
       "      <th>0</th>\n",
       "      <td>1</td>\n",
       "      <td>60</td>\n",
       "      <td>RL</td>\n",
       "      <td>8450</td>\n",
       "      <td>Pave</td>\n",
       "      <td>Reg</td>\n",
       "      <td>Lvl</td>\n",
       "      <td>AllPub</td>\n",
       "      <td>Inside</td>\n",
       "      <td>Gtl</td>\n",
       "      <td>...</td>\n",
       "      <td>0</td>\n",
       "      <td>0</td>\n",
       "      <td>0</td>\n",
       "      <td>0</td>\n",
       "      <td>0</td>\n",
       "      <td>2</td>\n",
       "      <td>2008</td>\n",
       "      <td>WD</td>\n",
       "      <td>Normal</td>\n",
       "      <td>208500</td>\n",
       "    </tr>\n",
       "    <tr>\n",
       "      <th>1</th>\n",
       "      <td>2</td>\n",
       "      <td>20</td>\n",
       "      <td>RL</td>\n",
       "      <td>9600</td>\n",
       "      <td>Pave</td>\n",
       "      <td>Reg</td>\n",
       "      <td>Lvl</td>\n",
       "      <td>AllPub</td>\n",
       "      <td>FR2</td>\n",
       "      <td>Gtl</td>\n",
       "      <td>...</td>\n",
       "      <td>0</td>\n",
       "      <td>0</td>\n",
       "      <td>0</td>\n",
       "      <td>0</td>\n",
       "      <td>0</td>\n",
       "      <td>5</td>\n",
       "      <td>2007</td>\n",
       "      <td>WD</td>\n",
       "      <td>Normal</td>\n",
       "      <td>181500</td>\n",
       "    </tr>\n",
       "    <tr>\n",
       "      <th>2</th>\n",
       "      <td>3</td>\n",
       "      <td>60</td>\n",
       "      <td>RL</td>\n",
       "      <td>11250</td>\n",
       "      <td>Pave</td>\n",
       "      <td>IR1</td>\n",
       "      <td>Lvl</td>\n",
       "      <td>AllPub</td>\n",
       "      <td>Inside</td>\n",
       "      <td>Gtl</td>\n",
       "      <td>...</td>\n",
       "      <td>0</td>\n",
       "      <td>0</td>\n",
       "      <td>0</td>\n",
       "      <td>0</td>\n",
       "      <td>0</td>\n",
       "      <td>9</td>\n",
       "      <td>2008</td>\n",
       "      <td>WD</td>\n",
       "      <td>Normal</td>\n",
       "      <td>223500</td>\n",
       "    </tr>\n",
       "    <tr>\n",
       "      <th>3</th>\n",
       "      <td>4</td>\n",
       "      <td>70</td>\n",
       "      <td>RL</td>\n",
       "      <td>9550</td>\n",
       "      <td>Pave</td>\n",
       "      <td>IR1</td>\n",
       "      <td>Lvl</td>\n",
       "      <td>AllPub</td>\n",
       "      <td>Corner</td>\n",
       "      <td>Gtl</td>\n",
       "      <td>...</td>\n",
       "      <td>272</td>\n",
       "      <td>0</td>\n",
       "      <td>0</td>\n",
       "      <td>0</td>\n",
       "      <td>0</td>\n",
       "      <td>2</td>\n",
       "      <td>2006</td>\n",
       "      <td>WD</td>\n",
       "      <td>Abnorml</td>\n",
       "      <td>140000</td>\n",
       "    </tr>\n",
       "    <tr>\n",
       "      <th>4</th>\n",
       "      <td>5</td>\n",
       "      <td>60</td>\n",
       "      <td>RL</td>\n",
       "      <td>14260</td>\n",
       "      <td>Pave</td>\n",
       "      <td>IR1</td>\n",
       "      <td>Lvl</td>\n",
       "      <td>AllPub</td>\n",
       "      <td>FR2</td>\n",
       "      <td>Gtl</td>\n",
       "      <td>...</td>\n",
       "      <td>0</td>\n",
       "      <td>0</td>\n",
       "      <td>0</td>\n",
       "      <td>0</td>\n",
       "      <td>0</td>\n",
       "      <td>12</td>\n",
       "      <td>2008</td>\n",
       "      <td>WD</td>\n",
       "      <td>Normal</td>\n",
       "      <td>250000</td>\n",
       "    </tr>\n",
       "  </tbody>\n",
       "</table>\n",
       "<p>5 rows × 62 columns</p>\n",
       "</div>"
      ],
      "text/plain": [
       "   Id  MSSubClass MSZoning  LotArea Street LotShape LandContour Utilities  \\\n",
       "0   1          60       RL     8450   Pave      Reg         Lvl    AllPub   \n",
       "1   2          20       RL     9600   Pave      Reg         Lvl    AllPub   \n",
       "2   3          60       RL    11250   Pave      IR1         Lvl    AllPub   \n",
       "3   4          70       RL     9550   Pave      IR1         Lvl    AllPub   \n",
       "4   5          60       RL    14260   Pave      IR1         Lvl    AllPub   \n",
       "\n",
       "  LotConfig LandSlope  ... EnclosedPorch 3SsnPorch ScreenPorch PoolArea  \\\n",
       "0    Inside       Gtl  ...             0         0           0        0   \n",
       "1       FR2       Gtl  ...             0         0           0        0   \n",
       "2    Inside       Gtl  ...             0         0           0        0   \n",
       "3    Corner       Gtl  ...           272         0           0        0   \n",
       "4       FR2       Gtl  ...             0         0           0        0   \n",
       "\n",
       "  MiscVal  MoSold  YrSold  SaleType  SaleCondition SalePrice  \n",
       "0       0       2    2008        WD         Normal    208500  \n",
       "1       0       5    2007        WD         Normal    181500  \n",
       "2       0       9    2008        WD         Normal    223500  \n",
       "3       0       2    2006        WD        Abnorml    140000  \n",
       "4       0      12    2008        WD         Normal    250000  \n",
       "\n",
       "[5 rows x 62 columns]"
      ]
     },
     "execution_count": 2,
     "metadata": {},
     "output_type": "execute_result"
    }
   ],
   "source": [
    "print(os.listdir('DATA'))\n",
    "\n",
    "train = pd.read_csv(\"DATA/train.csv\").dropna(axis=1)\n",
    "test = pd.read_csv(\"DATA/test.csv\")\n",
    "\n",
    "target = np.array(train['SalePrice'].values, np.float)\n",
    "\n",
    "train.head()"
   ]
  },
  {
   "cell_type": "markdown",
   "metadata": {},
   "source": [
    "Converting categorical variables to continuous variables is hard because a continuous representation of categorical variables necessarily applies a distance between variables. \"Ordinal\" categorical variables can be ranked and therefore can make sense as continuous variables, while \"nominal\" variables have no intrinsic order among them. For application with regression models such as Lasso, Ridge, Neural Networks, and Kernel regression, we assume that all features are ordinal. "
   ]
  },
  {
   "cell_type": "code",
   "execution_count": 3,
   "metadata": {},
   "outputs": [],
   "source": [
    "# pull out categorical features \n",
    "continuous_features = train.describe().columns.values[1:-1] \n",
    "categorical_ftrs = [ftr for ftr in train.columns.values[1:-1] if ftr not in continuous_features]"
   ]
  },
  {
   "cell_type": "code",
   "execution_count": 4,
   "metadata": {},
   "outputs": [
    {
     "data": {
      "text/html": [
       "<div>\n",
       "<style scoped>\n",
       "    .dataframe tbody tr th:only-of-type {\n",
       "        vertical-align: middle;\n",
       "    }\n",
       "\n",
       "    .dataframe tbody tr th {\n",
       "        vertical-align: top;\n",
       "    }\n",
       "\n",
       "    .dataframe thead th {\n",
       "        text-align: right;\n",
       "    }\n",
       "</style>\n",
       "<table border=\"1\" class=\"dataframe\">\n",
       "  <thead>\n",
       "    <tr style=\"text-align: right;\">\n",
       "      <th></th>\n",
       "      <th>MSZoning</th>\n",
       "      <th>Street</th>\n",
       "      <th>LotShape</th>\n",
       "      <th>LandContour</th>\n",
       "      <th>Utilities</th>\n",
       "      <th>LotConfig</th>\n",
       "      <th>LandSlope</th>\n",
       "      <th>Neighborhood</th>\n",
       "      <th>Condition1</th>\n",
       "      <th>Condition2</th>\n",
       "      <th>...</th>\n",
       "      <th>ExterCond</th>\n",
       "      <th>Foundation</th>\n",
       "      <th>Heating</th>\n",
       "      <th>HeatingQC</th>\n",
       "      <th>CentralAir</th>\n",
       "      <th>KitchenQual</th>\n",
       "      <th>Functional</th>\n",
       "      <th>PavedDrive</th>\n",
       "      <th>SaleType</th>\n",
       "      <th>SaleCondition</th>\n",
       "    </tr>\n",
       "  </thead>\n",
       "  <tbody>\n",
       "    <tr>\n",
       "      <th>0</th>\n",
       "      <td>RL</td>\n",
       "      <td>Pave</td>\n",
       "      <td>Reg</td>\n",
       "      <td>Lvl</td>\n",
       "      <td>AllPub</td>\n",
       "      <td>Inside</td>\n",
       "      <td>Gtl</td>\n",
       "      <td>CollgCr</td>\n",
       "      <td>Norm</td>\n",
       "      <td>Norm</td>\n",
       "      <td>...</td>\n",
       "      <td>TA</td>\n",
       "      <td>PConc</td>\n",
       "      <td>GasA</td>\n",
       "      <td>Ex</td>\n",
       "      <td>Y</td>\n",
       "      <td>Gd</td>\n",
       "      <td>Typ</td>\n",
       "      <td>Y</td>\n",
       "      <td>WD</td>\n",
       "      <td>Normal</td>\n",
       "    </tr>\n",
       "    <tr>\n",
       "      <th>1</th>\n",
       "      <td>RL</td>\n",
       "      <td>Pave</td>\n",
       "      <td>Reg</td>\n",
       "      <td>Lvl</td>\n",
       "      <td>AllPub</td>\n",
       "      <td>FR2</td>\n",
       "      <td>Gtl</td>\n",
       "      <td>Veenker</td>\n",
       "      <td>Feedr</td>\n",
       "      <td>Norm</td>\n",
       "      <td>...</td>\n",
       "      <td>TA</td>\n",
       "      <td>CBlock</td>\n",
       "      <td>GasA</td>\n",
       "      <td>Ex</td>\n",
       "      <td>Y</td>\n",
       "      <td>TA</td>\n",
       "      <td>Typ</td>\n",
       "      <td>Y</td>\n",
       "      <td>WD</td>\n",
       "      <td>Normal</td>\n",
       "    </tr>\n",
       "    <tr>\n",
       "      <th>2</th>\n",
       "      <td>RL</td>\n",
       "      <td>Pave</td>\n",
       "      <td>IR1</td>\n",
       "      <td>Lvl</td>\n",
       "      <td>AllPub</td>\n",
       "      <td>Inside</td>\n",
       "      <td>Gtl</td>\n",
       "      <td>CollgCr</td>\n",
       "      <td>Norm</td>\n",
       "      <td>Norm</td>\n",
       "      <td>...</td>\n",
       "      <td>TA</td>\n",
       "      <td>PConc</td>\n",
       "      <td>GasA</td>\n",
       "      <td>Ex</td>\n",
       "      <td>Y</td>\n",
       "      <td>Gd</td>\n",
       "      <td>Typ</td>\n",
       "      <td>Y</td>\n",
       "      <td>WD</td>\n",
       "      <td>Normal</td>\n",
       "    </tr>\n",
       "    <tr>\n",
       "      <th>3</th>\n",
       "      <td>RL</td>\n",
       "      <td>Pave</td>\n",
       "      <td>IR1</td>\n",
       "      <td>Lvl</td>\n",
       "      <td>AllPub</td>\n",
       "      <td>Corner</td>\n",
       "      <td>Gtl</td>\n",
       "      <td>Crawfor</td>\n",
       "      <td>Norm</td>\n",
       "      <td>Norm</td>\n",
       "      <td>...</td>\n",
       "      <td>TA</td>\n",
       "      <td>BrkTil</td>\n",
       "      <td>GasA</td>\n",
       "      <td>Gd</td>\n",
       "      <td>Y</td>\n",
       "      <td>Gd</td>\n",
       "      <td>Typ</td>\n",
       "      <td>Y</td>\n",
       "      <td>WD</td>\n",
       "      <td>Abnorml</td>\n",
       "    </tr>\n",
       "    <tr>\n",
       "      <th>4</th>\n",
       "      <td>RL</td>\n",
       "      <td>Pave</td>\n",
       "      <td>IR1</td>\n",
       "      <td>Lvl</td>\n",
       "      <td>AllPub</td>\n",
       "      <td>FR2</td>\n",
       "      <td>Gtl</td>\n",
       "      <td>NoRidge</td>\n",
       "      <td>Norm</td>\n",
       "      <td>Norm</td>\n",
       "      <td>...</td>\n",
       "      <td>TA</td>\n",
       "      <td>PConc</td>\n",
       "      <td>GasA</td>\n",
       "      <td>Ex</td>\n",
       "      <td>Y</td>\n",
       "      <td>Gd</td>\n",
       "      <td>Typ</td>\n",
       "      <td>Y</td>\n",
       "      <td>WD</td>\n",
       "      <td>Normal</td>\n",
       "    </tr>\n",
       "  </tbody>\n",
       "</table>\n",
       "<p>5 rows × 27 columns</p>\n",
       "</div>"
      ],
      "text/plain": [
       "  MSZoning Street LotShape LandContour Utilities LotConfig LandSlope  \\\n",
       "0       RL   Pave      Reg         Lvl    AllPub    Inside       Gtl   \n",
       "1       RL   Pave      Reg         Lvl    AllPub       FR2       Gtl   \n",
       "2       RL   Pave      IR1         Lvl    AllPub    Inside       Gtl   \n",
       "3       RL   Pave      IR1         Lvl    AllPub    Corner       Gtl   \n",
       "4       RL   Pave      IR1         Lvl    AllPub       FR2       Gtl   \n",
       "\n",
       "  Neighborhood Condition1 Condition2  ... ExterCond Foundation Heating  \\\n",
       "0      CollgCr       Norm       Norm  ...        TA      PConc    GasA   \n",
       "1      Veenker      Feedr       Norm  ...        TA     CBlock    GasA   \n",
       "2      CollgCr       Norm       Norm  ...        TA      PConc    GasA   \n",
       "3      Crawfor       Norm       Norm  ...        TA     BrkTil    GasA   \n",
       "4      NoRidge       Norm       Norm  ...        TA      PConc    GasA   \n",
       "\n",
       "  HeatingQC CentralAir KitchenQual Functional PavedDrive SaleType  \\\n",
       "0        Ex          Y          Gd        Typ          Y       WD   \n",
       "1        Ex          Y          TA        Typ          Y       WD   \n",
       "2        Ex          Y          Gd        Typ          Y       WD   \n",
       "3        Gd          Y          Gd        Typ          Y       WD   \n",
       "4        Ex          Y          Gd        Typ          Y       WD   \n",
       "\n",
       "  SaleCondition  \n",
       "0        Normal  \n",
       "1        Normal  \n",
       "2        Normal  \n",
       "3       Abnorml  \n",
       "4        Normal  \n",
       "\n",
       "[5 rows x 27 columns]"
      ]
     },
     "execution_count": 4,
     "metadata": {},
     "output_type": "execute_result"
    }
   ],
   "source": [
    "train[categorical_ftrs].head()"
   ]
  },
  {
   "cell_type": "markdown",
   "metadata": {},
   "source": [
    "As a feature selection step, we can examine the mutual information between the feature categories and sale price. In this context, mutual information describes the amount of information that can be gained about a house's price conditioned on an observed category. "
   ]
  },
  {
   "cell_type": "markdown",
   "metadata": {},
   "source": [
    "# Does linear regression improve after including categorical features? "
   ]
  },
  {
   "cell_type": "code",
   "execution_count": 5,
   "metadata": {},
   "outputs": [
    {
     "name": "stdout",
     "output_type": "stream",
     "text": [
      "33 continuous features: \n",
      " ['MSSubClass' 'LotArea' 'OverallQual' 'OverallCond' 'YearBuilt'\n",
      " 'YearRemodAdd' 'BsmtFinSF1' 'BsmtFinSF2' 'BsmtUnfSF' 'TotalBsmtSF'\n",
      " '1stFlrSF' '2ndFlrSF' 'LowQualFinSF' 'GrLivArea' 'BsmtFullBath'\n",
      " 'BsmtHalfBath' 'FullBath' 'HalfBath' 'BedroomAbvGr' 'KitchenAbvGr'\n",
      " 'TotRmsAbvGrd' 'Fireplaces' 'GarageCars' 'GarageArea' 'WoodDeckSF'\n",
      " 'OpenPorchSF' 'EnclosedPorch' '3SsnPorch' 'ScreenPorch' 'PoolArea'\n",
      " 'MiscVal' 'MoSold' 'YrSold'] \n",
      "\n",
      "27 categoricalfeatures: \n",
      " ['MSZoning', 'Street', 'LotShape', 'LandContour', 'Utilities', 'LotConfig', 'LandSlope', 'Neighborhood', 'Condition1', 'Condition2', 'BldgType', 'HouseStyle', 'RoofStyle', 'RoofMatl', 'Exterior1st', 'Exterior2nd', 'ExterQual', 'ExterCond', 'Foundation', 'Heating', 'HeatingQC', 'CentralAir', 'KitchenQual', 'Functional', 'PavedDrive', 'SaleType', 'SaleCondition']\n"
     ]
    }
   ],
   "source": [
    "# exclude categorical features and \"id\" and \"sale price\" since these are not features \n",
    "continuousfeatures = train.describe().columns.values[1:-1] \n",
    "categoricalfeatures = [ftr for ftr in train.columns.values[1:-1] if ftr not in continuous_features]\n",
    "features = list(continuousfeatures) + categoricalfeatures\n",
    "target = ['SalePrice']\n",
    "\n",
    "print(\"{:.0f} continuous features: \\n\".format(len(continuousfeatures)), continuousfeatures, \"\\n\")\n",
    "print(\"{:.0f} categoricalfeatures: \\n\".format(len(categoricalfeatures)), categoricalfeatures)"
   ]
  },
  {
   "cell_type": "code",
   "execution_count": 6,
   "metadata": {},
   "outputs": [],
   "source": [
    "# Neighborhood is an important categorical, nominal feature \n",
    "# want to do the ordinal encoding manually \n",
    "def OrdinalEncoder(df, features, target='SalePrice'):\n",
    "    # loop through all categorical features \n",
    "    for feature in features:\n",
    "        neighborhoods = df[feature].values\n",
    "        prices = []\n",
    "        # for each feature, determine avg target value\n",
    "        for neighborhood in np.unique(neighborhoods):\n",
    "            inds = neighborhood == neighborhoods\n",
    "            prices.append(np.mean(df.iloc[inds, :][target].values))\n",
    "        ordinal_labels = np.argsort(prices)\n",
    "        prices_dict = {neighborhood:i for i, neighborhood in enumerate(np.unique(neighborhoods)[ordinal_labels])}\n",
    "        # encode categorical features ordinally based on target values \n",
    "        encoded_neighborhood = [prices_dict[n] for n in neighborhoods]\n",
    "        df[feature] = encoded_neighborhood\n",
    "    return df\n",
    "\n",
    "# Assume categorical features are ordinal and encode \n",
    "train = OrdinalEncoder(train, categoricalfeatures)"
   ]
  },
  {
   "cell_type": "code",
   "execution_count": 7,
   "metadata": {
    "scrolled": false
   },
   "outputs": [
    {
     "data": {
      "image/png": "[encoded data removed]",
      "text/plain": [
       "<Figure size 648x432 with 1 Axes>"
      ]
     },
     "metadata": {
      "needs_background": "light"
     },
     "output_type": "display_data"
    },
    {
     "name": "stdout",
     "output_type": "stream",
     "text": [
      "ratio of maximum to minimum average feature value: 1.8e+05\n"
     ]
    }
   ],
   "source": [
    "X = np.array(train[features].values, np.float)\n",
    "\n",
    "plt.figure(figsize=(9, 6))\n",
    "plt.title(\"Histogram of average feature values\")\n",
    "plt.hist(np.mean(X, 0), bins=30)\n",
    "plt.yscale(\"log\")\n",
    "plt.xlabel(\"feature \")\n",
    "plt.show()\n",
    "\n",
    "ratio = np.max(np.mean(X, 0))/np.min(np.mean(X, 0))\n",
    "print(\"ratio of maximum to minimum average feature value: {:.1e}\".format(ratio))"
   ]
  },
  {
   "cell_type": "markdown",
   "metadata": {},
   "source": [
    "Features exist on a hugely different scale, with 'LotArea' and 'Utilities' varying over 7 orders of magnitude"
   ]
  },
  {
   "cell_type": "code",
   "execution_count": 8,
   "metadata": {},
   "outputs": [
    {
     "name": "stdout",
     "output_type": "stream",
     "text": [
      "features sorted from low to high, \n",
      " ['BsmtHalfBath' 'LandSlope' 'HalfBath' 'BsmtFullBath' 'LotShape'\n",
      " 'Fireplaces' 'LotConfig' 'CentralAir' 'Street' 'Utilities' 'KitchenAbvGr'\n",
      " 'LandContour' 'ExterQual' 'KitchenQual' 'FullBath' 'RoofStyle'\n",
      " 'GarageCars' 'PavedDrive' 'RoofMatl' 'MSZoning' 'PoolArea' 'ExterCond'\n",
      " 'BedroomAbvGr' 'HeatingQC' 'Foundation' '3SsnPorch' 'BldgType'\n",
      " 'Condition1' 'SaleCondition' 'Condition2' 'SaleType' 'HouseStyle'\n",
      " 'Heating' 'OverallCond' 'Functional' 'LowQualFinSF' 'OverallQual'\n",
      " 'MoSold' 'TotRmsAbvGrd' 'Exterior1st' 'Exterior2nd' 'Neighborhood'\n",
      " 'ScreenPorch' 'EnclosedPorch' 'MiscVal' 'BsmtFinSF2' 'OpenPorchSF'\n",
      " 'MSSubClass' 'WoodDeckSF' '2ndFlrSF' 'BsmtFinSF1' 'GarageArea'\n",
      " 'BsmtUnfSF' 'TotalBsmtSF' '1stFlrSF' 'GrLivArea' 'YearBuilt'\n",
      " 'YearRemodAdd' 'YrSold' 'LotArea']\n"
     ]
    }
   ],
   "source": [
    "print(\"features sorted from low to high, \\n\", np.array(features)[np.argsort(np.mean(X, 0))])"
   ]
  },
  {
   "cell_type": "code",
   "execution_count": 9,
   "metadata": {},
   "outputs": [],
   "source": [
    "# take decades since 2020 for features that describe the year \n",
    "yearfeatures = [f for f in features if 'Year' in f or 'Yr' in f]\n",
    "train[yearfeatures] = (2020 - train[yearfeatures].values)/ 10"
   ]
  },
  {
   "cell_type": "code",
   "execution_count": 10,
   "metadata": {},
   "outputs": [],
   "source": [
    "# take square root of features that describe area and divide by max \n",
    "areafeatures = [f for f in features if 'SF' in f or 'Area' in f]\n",
    "train[areafeatures] = train[areafeatures].values**.5 / np.max(train[areafeatures].values**.5, 0)"
   ]
  },
  {
   "cell_type": "code",
   "execution_count": 11,
   "metadata": {},
   "outputs": [
    {
     "data": {
      "image/png": "[encoded data removed]",
      "text/plain": [
       "<Figure size 648x432 with 1 Axes>"
      ]
     },
     "metadata": {
      "needs_background": "light"
     },
     "output_type": "display_data"
    },
    {
     "name": "stdout",
     "output_type": "stream",
     "text": [
      "ratio of maximum to minimum average feature value: 1.3e+04\n"
     ]
    }
   ],
   "source": [
    "X = np.array(train[features].values, np.float)\n",
    "\n",
    "plt.figure(figsize=(9, 6))\n",
    "plt.title(\"Histogram of average feature values\")\n",
    "plt.hist(np.max(X, 0), bins=30)\n",
    "plt.yscale(\"log\")\n",
    "plt.xlabel(\"feature \")\n",
    "plt.show()\n",
    "\n",
    "ratio = np.max(np.mean(X, 0))/np.min(np.mean(X, 0))\n",
    "print(\"ratio of maximum to minimum average feature value: {:.1e}\".format(ratio))"
   ]
  },
  {
   "cell_type": "code",
   "execution_count": 12,
   "metadata": {},
   "outputs": [
    {
     "name": "stdout",
     "output_type": "stream",
     "text": [
      "features sorted from low to high, \n",
      " ['PoolArea' 'Street' 'OpenPorchSF' 'WoodDeckSF' 'GarageArea' 'GrLivArea'\n",
      " 'LowQualFinSF' '2ndFlrSF' '1stFlrSF' 'Utilities' 'BsmtUnfSF' 'LotArea'\n",
      " 'TotalBsmtSF' 'CentralAir' 'BsmtFinSF2' 'BsmtFinSF1' 'YrSold'\n",
      " 'PavedDrive' 'BsmtHalfBath' 'HalfBath' 'LandSlope' 'LotShape' 'ExterQual'\n",
      " 'KitchenQual' 'BsmtFullBath' 'Fireplaces' 'KitchenAbvGr' 'LandContour'\n",
      " 'FullBath' 'HeatingQC' 'ExterCond' 'BldgType' 'LotConfig' 'MSZoning'\n",
      " 'GarageCars' 'RoofStyle' 'Foundation' 'Heating' 'SaleCondition'\n",
      " 'Functional' 'YearRemodAdd' 'Condition2' 'HouseStyle' 'RoofMatl'\n",
      " 'Condition1' 'SaleType' 'BedroomAbvGr' 'OverallCond' 'OverallQual'\n",
      " 'MoSold' 'TotRmsAbvGrd' 'Exterior1st' 'YearBuilt' 'Exterior2nd'\n",
      " 'Neighborhood' 'MSSubClass' 'ScreenPorch' '3SsnPorch' 'EnclosedPorch'\n",
      " 'MiscVal']\n"
     ]
    }
   ],
   "source": [
    "print(\"features sorted from low to high, \\n\", np.array(features)[np.argsort(np.max(X, 0))])"
   ]
  },
  {
   "cell_type": "code",
   "execution_count": 13,
   "metadata": {},
   "outputs": [],
   "source": [
    "# set up training data \n",
    "X = np.array(train[features].values, np.float)\n",
    "y = np.array(train[target].values, np.float)\n",
    "\n",
    "# center data \n",
    "X = MinMaxScaler((-1, 1)).fit(X).transform(X)\n",
    "\n",
    "# actually predict centered log_y \n",
    "y = np.log(y) - np.mean(np.log(y)) "
   ]
  },
  {
   "cell_type": "code",
   "execution_count": 14,
   "metadata": {},
   "outputs": [],
   "source": [
    "def HyperParamOpt1D(X, y, classifier, hyperparams, n_splits):\n",
    "    # init list of oof prediction performances \n",
    "    oof_performance = []\n",
    "    \n",
    "    # loop over hyperparameters \n",
    "    for hyperparam in hyperparams:\n",
    "        # set up out of fold \n",
    "        oof = np.zeros(X.shape[0])\n",
    "        \n",
    "        # pull each subset for training \n",
    "        skf = KFold(n_splits, shuffle=True)\n",
    "        skf.get_n_splits(X, y)\n",
    "        for train_index, val_index in skf.split(X):\n",
    "            X_train, X_val = X[train_index], X[val_index]\n",
    "            y_train, y_val = y[train_index], y[val_index]\n",
    "\n",
    "            # init classifier \n",
    "            clf = classifier(alpha=hyperparam)\n",
    "            clf.fit(X_train, y_train)\n",
    "            # make predictions \n",
    "            oof[val_index] = clf.predict(X_val).flatten()\n",
    "            \n",
    "        # calculate mse \n",
    "        #mse = np.linalg.norm(oof - y)\n",
    "        R2score = -R2(oof, y)\n",
    "        oof_performance.append(R2score)\n",
    "    \n",
    "    # choose best weights from validation performance \n",
    "    best_param = hyperparams[np.argmin(oof_performance)]\n",
    "    \n",
    "    # fit best model \n",
    "    best_clf = classifier(alpha=best_param)\n",
    "    best_clf.fit(X, y)\n",
    "    \n",
    "    return best_clf, best_param "
   ]
  },
  {
   "cell_type": "code",
   "execution_count": 15,
   "metadata": {},
   "outputs": [
    {
     "name": "stderr",
     "output_type": "stream",
     "text": [
      "K-Fold: 10it [00:11,  1.17s/it]\n"
     ]
    }
   ],
   "source": [
    "# set hyperparams to optimize over \n",
    "hyperparams = np.logspace(-4, np.log10(20), 20)\n",
    "\n",
    "# record out-of-fold predictions for Lasso and Ridge regression\n",
    "oof_L = np.zeros(X.shape[0])\n",
    "oof_R = np.zeros(X.shape[0])\n",
    "\n",
    "# split data into 10 train+validation and testing data sets\n",
    "skf1 = KFold(n_splits=10, shuffle=True, random_state=123)\n",
    "skf1.get_n_splits(X, y)\n",
    "for trainval_index, test_index in tqdm(skf1.split(X), desc=\"K-Fold\"):\n",
    "    # split the whole dataset into training+validation data and testing sets\n",
    "    X_trainval, X_test = X[trainval_index], X[test_index]\n",
    "    y_trainval, y_test = y[trainval_index], y[test_index]\n",
    "    \n",
    "    ### RIDGE ###\n",
    "    # see what hyperparameter performs best on validation data \n",
    "    best_model, best_param = HyperParamOpt1D(X_trainval, y_trainval, Ridge, hyperparams, n_splits=9)\n",
    "    \n",
    "    # make predictions \n",
    "    y_pred_test = best_model.predict(X_test)\n",
    "    \n",
    "    # store predictions\n",
    "    oof_R[test_index] = y_pred_test.flatten()\n",
    "    \n",
    "    ### LASSO ###\n",
    "    # see what hyperparameter performs best on validation data \n",
    "    best_model, best_param = HyperParamOpt1D(X_trainval, y_trainval, Lasso, hyperparams, n_splits=9)\n",
    "    \n",
    "    # make predictions \n",
    "    y_pred_test = best_model.predict(X_test)\n",
    "    \n",
    "    # store predictions\n",
    "    oof_L[test_index] = y_pred_test.flatten()"
   ]
  },
  {
   "cell_type": "code",
   "execution_count": 25,
   "metadata": {},
   "outputs": [
    {
     "data": {
      "image/png": "[encoded data removed]",
      "text/plain": [
       "<Figure size 648x432 with 1 Axes>"
      ]
     },
     "metadata": {
      "needs_background": "light"
     },
     "output_type": "display_data"
    }
   ],
   "source": [
    "# calculate performance\n",
    "rmse_ridge = np.linalg.norm(y.ravel() - oof_R)/len(y)\n",
    "rmse_lasso = np.linalg.norm(y.ravel() - oof_L)/len(y)\n",
    "R2_ridge  = R2(y, oof_R)\n",
    "R2_lasso  = R2(y, oof_L)\n",
    "\n",
    "plt.figure(figsize=(9, 6))\n",
    "\n",
    "plt.scatter(oof_L, y, alpha=.6, label=\"Lasso, RMSE: {:.4f}, R2: {:.3f}\".format(rmse_lasso, R2_lasso))\n",
    "plt.scatter(oof_R, y, alpha=.25, label=\"Ridge, RMSE: {:.4f}, R2: {:.3f}\".format(rmse_ridge, R2_ridge))\n",
    "plt.xlabel(\"Predicted house price\", fontsize=16)\n",
    "plt.ylabel(\"True house price\", fontsize=16)\n",
    "\n",
    "plt.legend(fontsize=14)\n",
    "plt.title(\"Prediction performance with regularization\", fontsize=18)\n",
    "plt.show()"
   ]
  }
 ],
 "metadata": {
  "kernelspec": {
   "display_name": "Python 3",
   "language": "python",
   "name": "python3"
  },
  "language_info": {
   "codemirror_mode": {
    "name": "ipython",
    "version": 3
   },
   "file_extension": ".py",
   "mimetype": "text/x-python",
   "name": "python",
   "nbconvert_exporter": "python",
   "pygments_lexer": "ipython3",
   "version": "3.8.3"
  }
 },
 "nbformat": 4,
 "nbformat_minor": 4
}
